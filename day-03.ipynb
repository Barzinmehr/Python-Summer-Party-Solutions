{
  "cells": [
    {
      "cell_type": "markdown",
      "metadata": {},
      "source": [
        "# Day 3: Disney Parks Guest Spending Behavior"
      ]
    },
    {
      "cell_type": "markdown",
      "metadata": {},
      "source": [
        "You are a data analyst working with the Disney Parks revenue team to understand nuanced guest spending patterns across different park experiences. The team wants to develop a comprehensive view of visitor purchasing behaviors. Your goal is to uncover meaningful insights that can drive personalized marketing strategies."
      ]
    },
    {
      "cell_type": "code",
      "metadata": {},
      "execution_count": null,
      "outputs": [],
      "source": "import pandas as pd\nimport numpy as np\n\nfct_guest_spending_data = [\n  {\n    \"guest_id\": 1,\n    \"visit_date\": \"2024-07-05\",\n    \"amount_spent\": 50,\n    \"park_experience_type\": \"Attraction\"\n  },\n  {\n    \"guest_id\": 2,\n    \"visit_date\": \"2024-07-06\",\n    \"amount_spent\": 30,\n    \"park_experience_type\": \"Dining\"\n  },\n  {\n    \"guest_id\": 3,\n    \"visit_date\": \"2024-07-10\",\n    \"amount_spent\": 20.5,\n    \"park_experience_type\": \"Retail\"\n  },\n  {\n    \"guest_id\": 4,\n    \"visit_date\": \"2024-07-12\",\n    \"amount_spent\": 40,\n    \"park_experience_type\": \"Entertainment\"\n  },\n  {\n    \"guest_id\": 1,\n    \"visit_date\": \"2024-07-15\",\n    \"amount_spent\": 35,\n    \"park_experience_type\": \"Dining\"\n  },\n  {\n    \"guest_id\": 5,\n    \"visit_date\": \"2024-07-20\",\n    \"amount_spent\": 60,\n    \"park_experience_type\": \"Attraction\"\n  },\n  {\n    \"guest_id\": 6,\n    \"visit_date\": \"2024-07-25\",\n    \"amount_spent\": 25,\n    \"park_experience_type\": \"Retail\"\n  },\n  {\n    \"guest_id\": 1,\n    \"visit_date\": \"2024-08-03\",\n    \"amount_spent\": 55,\n    \"park_experience_type\": \"Attraction\"\n  },\n  {\n    \"guest_id\": 1,\n    \"visit_date\": \"2024-08-15\",\n    \"amount_spent\": 45,\n    \"park_experience_type\": \"Dining\"\n  },\n  {\n    \"guest_id\": 2,\n    \"visit_date\": \"2024-08-05\",\n    \"amount_spent\": 22,\n    \"park_experience_type\": \"Retail\"\n  },\n  {\n    \"guest_id\": 2,\n    \"visit_date\": \"2024-08-20\",\n    \"amount_spent\": 38,\n    \"park_experience_type\": \"Entertainment\"\n  },\n  {\n    \"guest_id\": 7,\n    \"visit_date\": \"2024-08-10\",\n    \"amount_spent\": 15,\n    \"park_experience_type\": \"Character Meet\"\n  },\n  {\n    \"guest_id\": 3,\n    \"visit_date\": \"2024-08-25\",\n    \"amount_spent\": 28,\n    \"park_experience_type\": \"Retail\"\n  },\n  {\n    \"guest_id\": 3,\n    \"visit_date\": \"2024-08-27\",\n    \"amount_spent\": 32,\n    \"park_experience_type\": \"Dining\"\n  },\n  {\n    \"guest_id\": 1,\n    \"visit_date\": \"2024-09-02\",\n    \"amount_spent\": 65,\n    \"park_experience_type\": \"Attraction\"\n  },\n  {\n    \"guest_id\": 8,\n    \"visit_date\": \"2024-09-05\",\n    \"amount_spent\": 50,\n    \"park_experience_type\": \"Retail\"\n  },\n  {\n    \"guest_id\": 9,\n    \"visit_date\": \"2024-09-15\",\n    \"amount_spent\": 40,\n    \"park_experience_type\": \"Dining\"\n  },\n  {\n    \"guest_id\": 10,\n    \"visit_date\": \"2024-09-20\",\n    \"amount_spent\": 70,\n    \"park_experience_type\": \"Entertainment\"\n  },\n  {\n    \"guest_id\": 1,\n    \"visit_date\": \"2024-09-25\",\n    \"amount_spent\": 35,\n    \"park_experience_type\": \"Dining\"\n  },\n  {\n    \"guest_id\": 8,\n    \"visit_date\": \"2024-09-28\",\n    \"amount_spent\": 10,\n    \"park_experience_type\": \"Character Meet\"\n  }\n]\nfct_guest_spending = pd.DataFrame(fct_guest_spending_data)\n"
    },
    {
      "cell_type": "markdown",
      "metadata": {},
      "source": [
        "## Question 1\n\nWhat is the average spending per guest per visit for each park experience type during July 2024? Ensure that park experience types with no recorded transactions are shown with an average spending of 0.0. This analysis helps establish baseline spending differences essential for later segmentation."
      ]
    },
    {
      "cell_type": "code",
      "metadata": {},
      "execution_count": null,
      "outputs": [],
      "source": "# Note: pandas and numpy are already imported as pd and np\n# The following tables are loaded as pandas DataFrames with the same names: fct_guest_spending\n# Please print your final result or dataframe\n# Filter for July\njuly_data = fct_guest_spending.query(\"visit_date >= '2024-07-01' and visit_date < '2024-08-01'\")\n\n# Calculate total spending and total visits per park experience type over all guests\ntotal_spending_visits = july_data.groupby('park_experience_type').agg(\n    total_spent=('amount_spent', 'sum'),\n    total_visits=('amount_spent', 'count')\n).reset_index()\n\n# Compute average spending per visit per experience\ntotal_spending_visits['avg_spending_per_visit'] = total_spending_visits['total_spent'] / total_spending_visits['total_visits']\n\n# Merge with all experience types to include types with zero visits (fill with 0.0)\nall_experience_types_df = fct_guest_spending[['park_experience_type']].drop_duplicates()\nresult = pd.merge(all_experience_types_df, total_spending_visits[['park_experience_type', 'avg_spending_per_visit']],\n                  on='park_experience_type', how='left')\nresult['avg_spending_per_visit'] = result['avg_spending_per_visit'].fillna(0.0)\n\nprint(result.rename(columns={'avg_spending_per_visit': 'avg_spending_per_guest_visit'}))"
    },
    {
      "cell_type": "markdown",
      "metadata": {},
      "source": [
        "## Question 2\n\nFor guests who visited our parks more than once in August 2024, what is the difference in spending between their first and their last visit? This investigation, using sequential analysis, will reveal any shifts in guest spending behavior over multiple visits."
      ]
    },
    {
      "cell_type": "code",
      "metadata": {},
      "execution_count": null,
      "outputs": [],
      "source": "# Filter for August 2024 visits\naugust_data = fct_guest_spending.query(\"visit_date >= '2024-08-01' and visit_date < '2024-09-01'\")\n\n# Sort by guest_id and visit_date to get visits in order\naugust_data_sorted = august_data.sort_values(['guest_id', 'visit_date'])\n\nfirst_visits = august_data_sorted.groupby('guest_id').first().reset_index()\nlast_visits = august_data_sorted.groupby('guest_id').last().reset_index()\n\n# Merge first and last visits on guest_id\nvisits_compare = pd.merge(\n    first_visits[['guest_id', 'amount_spent']],\n    last_visits[['guest_id', 'amount_spent']],\n    on='guest_id',\n    suffixes=('_first', '_last')\n)\n\n# Filter to guests with more than one visit\nvisit_counts = august_data_sorted.groupby('guest_id').size().reset_index(name='visit_count')\nvisits_compare = visits_compare.merge(visit_counts, on='guest_id')\nvisits_compare = visits_compare[visits_compare['visit_count'] > 1]\n\n# Calculate difference: last visit spending - first visit spending\nvisits_compare['spending_difference'] = visits_compare['amount_spent_last'] - visits_compare['amount_spent_first']\n\nprint(visits_compare[['guest_id', 'spending_difference']])"
    },
    {
      "cell_type": "markdown",
      "metadata": {},
      "source": [
        "## Question 3\n\nIn September 2024, how can guests be categorized into distinct spending segments such as Low, Medium, and High based on their total spending? Use the following thresholds for categorization: \n-Low: Includes values from $0 up to, but not including, $50.\n-Medium: Includes values from $50 up to, but not including, $100.\n-High: Includes values from $100 and above. \nExclude guests who did not make any purchases in the period."
      ]
    },
    {
      "cell_type": "code",
      "metadata": {},
      "execution_count": null,
      "outputs": [],
      "source": "# Filter for September 2024\nsep_data = fct_guest_spending.query(\"visit_date >= '2024-09-01' and visit_date < '2024-10-01'\")\n\n# Aggregate total spending per guest in September\nguest_spending_sep = sep_data.groupby('guest_id')['amount_spent'].sum().reset_index()\n\n# Exclude guests with zero spending\nguest_spending_sep = guest_spending_sep[guest_spending_sep['amount_spent'] > 0]\n\n# Define spending bins and labels according to your thresholds\nbins = [0, 50, 100, float('inf')]  \nlabels = ['Low', 'Medium', 'High']\n\n# Categorize total spending into segments\nguest_spending_sep['spending_segment'] = pd.cut(\n    guest_spending_sep['amount_spent'],\n    bins=bins,\n    labels=labels,\n    right=False,  # intervals are left-inclusive, right-exclusive\n    include_lowest=True\n)\n\nprint(guest_spending_sep[['guest_id', 'amount_spent', 'spending_segment']])"
    },
    {
      "cell_type": "markdown",
      "metadata": {},
      "source": [
        "Made with ❤️ by [Interview Master](https://www.interviewmaster.ai)"
      ]
    }
  ],
  "metadata": {
    "kernelspec": {
      "name": "python3",
      "language": "python",
      "display_name": "Python 3"
    },
    "language_info": {
      "name": "python",
      "version": "3",
      "mimetype": "text/x-python",
      "file_extension": ".py"
    }
  },
  "nbformat": 4,
  "nbformat_minor": 5
}